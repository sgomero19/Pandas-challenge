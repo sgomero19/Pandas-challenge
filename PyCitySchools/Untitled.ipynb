{
 "cells": [
  {
   "cell_type": "code",
   "execution_count": null,
   "id": "57da7547",
   "metadata": {},
   "outputs": [],
   "source": [
    "#dependencies setup\n",
    "import panda as pd\n",
    "#Loading files\n",
    "school_data_to_load= \"Resources/school_complete.csv\"\n",
    "student_data_to_load= \"Resources/students_complete.csv\"\n",
    "#read files\n",
    "school_data= pd.read_csv/(school_data_to_load)\n",
    "student_data=pd.read_csv/(student_data_to_load)\n"
   ]
  },
  {
   "cell_type": "code",
   "execution_count": null,
   "id": "57124be0",
   "metadata": {},
   "outputs": [],
   "source": []
  }
 ],
 "metadata": {
  "kernelspec": {
   "display_name": "Python 3 (ipykernel)",
   "language": "python",
   "name": "python3"
  },
  "language_info": {
   "codemirror_mode": {
    "name": "ipython",
    "version": 3
   },
   "file_extension": ".py",
   "mimetype": "text/x-python",
   "name": "python",
   "nbconvert_exporter": "python",
   "pygments_lexer": "ipython3",
   "version": "3.10.14"
  }
 },
 "nbformat": 4,
 "nbformat_minor": 5
}
