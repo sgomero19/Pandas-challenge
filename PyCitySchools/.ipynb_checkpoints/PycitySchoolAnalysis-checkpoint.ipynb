{
 "cells": [
  {
   "cell_type": "code",
   "execution_count": 1,
   "id": "57da7547",
   "metadata": {},
   "outputs": [
    {
     "ename": "ModuleNotFoundError",
     "evalue": "No module named 'panda'",
     "output_type": "error",
     "traceback": [
      "\u001b[1;31m---------------------------------------------------------------------------\u001b[0m",
      "\u001b[1;31mModuleNotFoundError\u001b[0m                       Traceback (most recent call last)",
      "Cell \u001b[1;32mIn[1], line 2\u001b[0m\n\u001b[0;32m      1\u001b[0m \u001b[38;5;66;03m#dependencies setup\u001b[39;00m\n\u001b[1;32m----> 2\u001b[0m \u001b[38;5;28;01mimport\u001b[39;00m \u001b[38;5;21;01mpanda\u001b[39;00m \u001b[38;5;28;01mas\u001b[39;00m \u001b[38;5;21;01mpd\u001b[39;00m\n\u001b[0;32m      3\u001b[0m \u001b[38;5;66;03m#Loading files\u001b[39;00m\n\u001b[0;32m      4\u001b[0m school_data_to_load\u001b[38;5;241m=\u001b[39m \u001b[38;5;124m\"\u001b[39m\u001b[38;5;124mResources/school_complete.csv\u001b[39m\u001b[38;5;124m\"\u001b[39m\n",
      "\u001b[1;31mModuleNotFoundError\u001b[0m: No module named 'panda'"
     ]
    }
   ],
   "source": [
    "#dependencies setup\n",
    "import panda as pd\n",
    "#Loading files\n",
    "school_data_to_load= \"Resources/school_complete.csv\"\n",
    "student_data_to_load= \"Resources/students_complete.csv\"\n",
    "#read files\n",
    "school_data= pd.read_csv/(school_data_to_load)\n",
    "student_data=pd.read_csv/(student_data_to_load)\n",
    "# merge files in student name\n",
    "school_data_complete= pd.merge(school_data,student_data,how=\"left\",on=[\"school_name\", \"school_name\"])\n",
    "school_data_complete"
   ]
  },
  {
   "cell_type": "code",
   "execution_count": null,
   "id": "21a5f37e",
   "metadata": {},
   "outputs": [],
   "source": [
    "#Calculate number of school\n",
    "Total_schools= len(school_data_complete[\"school_name\"].unique())\n",
    "Total_schools"
   ]
  },
  {
   "cell_type": "code",
   "execution_count": null,
   "id": "57124be0",
   "metadata": {},
   "outputs": [],
   "source": [
    "#Calculate number of students\n",
    "Total_students= len(school_data_complete[\"student ID\"].unique())\n",
    "Total_students"
   ]
  },
  {
   "cell_type": "code",
   "execution_count": null,
   "id": "96ea2a13",
   "metadata": {},
   "outputs": [],
   "source": [
    "#Calculate total budget\n",
    "Total_budget=school_date[\"budget\"].sum()\n",
    "Total_budget\n"
   ]
  },
  {
   "cell_type": "code",
   "execution_count": null,
   "id": "d6159e64",
   "metadata": {},
   "outputs": [],
   "source": [
    "#Calculate average math score\n",
    "avg_math_score=school_data_complete[\"math_score\"].average()\n",
    "avg_math_score"
   ]
  },
  {
   "cell_type": "code",
   "execution_count": null,
   "id": "0c847822",
   "metadata": {},
   "outputs": [],
   "source": [
    "#Calculate average read score\n",
    "avg_read_score=school_data_complete[\"reading_score\"].average()\n",
    "avg_read_score"
   ]
  },
  {
   "cell_type": "code",
   "execution_count": null,
   "id": "5eb484cd",
   "metadata": {},
   "outputs": [],
   "source": [
    "#calculate % of students passing math\n",
    "students_pass_math=school_data_complete[\"math_score\"]>70\n",
    "number_students_pass_math= students_pass_math[\"student_name\"].count()\n",
    "percent_students_pass_math= (number_students_pass_math/Total_students)*100\n",
    "percent_students_pass_math"
   ]
  },
  {
   "cell_type": "code",
   "execution_count": null,
   "id": "0ff18bab",
   "metadata": {},
   "outputs": [],
   "source": [
    "#calculate % of students passing reading\n",
    "students_pass_reading=school_data_complete[\"reading_score\"]>70\n",
    "number_students_pass_reading=students_pass_reading[\"student_name\"].count()\n",
    "percent_students_pass_reading=(number_students_pass_reading/Total_students)*100"
   ]
  },
  {
   "cell_type": "code",
   "execution_count": null,
   "id": "57d0334e",
   "metadata": {},
   "outputs": [],
   "source": [
    "#percentage overall passing\n",
    "Ovarall_passing_percent= (percent_students_pass_math + percent_students_pass_reading)/2"
   ]
  }
 ],
 "metadata": {
  "kernelspec": {
   "display_name": "Python 3 (ipykernel)",
   "language": "python",
   "name": "python3"
  },
  "language_info": {
   "codemirror_mode": {
    "name": "ipython",
    "version": 3
   },
   "file_extension": ".py",
   "mimetype": "text/x-python",
   "name": "python",
   "nbconvert_exporter": "python",
   "pygments_lexer": "ipython3",
   "version": "3.10.14"
  }
 },
 "nbformat": 4,
 "nbformat_minor": 5
}
