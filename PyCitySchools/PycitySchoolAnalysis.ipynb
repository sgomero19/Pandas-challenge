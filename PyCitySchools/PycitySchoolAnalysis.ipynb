{
 "cells": [
  {
   "cell_type": "code",
   "execution_count": 1,
   "id": "57da7547",
   "metadata": {},
   "outputs": [
    {
     "data": {
      "text/html": [
       "<div>\n",
       "<style scoped>\n",
       "    .dataframe tbody tr th:only-of-type {\n",
       "        vertical-align: middle;\n",
       "    }\n",
       "\n",
       "    .dataframe tbody tr th {\n",
       "        vertical-align: top;\n",
       "    }\n",
       "\n",
       "    .dataframe thead th {\n",
       "        text-align: right;\n",
       "    }\n",
       "</style>\n",
       "<table border=\"1\" class=\"dataframe\">\n",
       "  <thead>\n",
       "    <tr style=\"text-align: right;\">\n",
       "      <th></th>\n",
       "      <th>Student ID</th>\n",
       "      <th>student_name</th>\n",
       "      <th>gender</th>\n",
       "      <th>grade</th>\n",
       "      <th>school_name</th>\n",
       "      <th>reading_score</th>\n",
       "      <th>math_score</th>\n",
       "      <th>School ID</th>\n",
       "      <th>type</th>\n",
       "      <th>size</th>\n",
       "      <th>budget</th>\n",
       "    </tr>\n",
       "  </thead>\n",
       "  <tbody>\n",
       "    <tr>\n",
       "      <th>0</th>\n",
       "      <td>0</td>\n",
       "      <td>Paul Bradley</td>\n",
       "      <td>M</td>\n",
       "      <td>9th</td>\n",
       "      <td>Huang High School</td>\n",
       "      <td>66</td>\n",
       "      <td>79</td>\n",
       "      <td>0</td>\n",
       "      <td>District</td>\n",
       "      <td>2917</td>\n",
       "      <td>1910635</td>\n",
       "    </tr>\n",
       "    <tr>\n",
       "      <th>1</th>\n",
       "      <td>1</td>\n",
       "      <td>Victor Smith</td>\n",
       "      <td>M</td>\n",
       "      <td>12th</td>\n",
       "      <td>Huang High School</td>\n",
       "      <td>94</td>\n",
       "      <td>61</td>\n",
       "      <td>0</td>\n",
       "      <td>District</td>\n",
       "      <td>2917</td>\n",
       "      <td>1910635</td>\n",
       "    </tr>\n",
       "    <tr>\n",
       "      <th>2</th>\n",
       "      <td>2</td>\n",
       "      <td>Kevin Rodriguez</td>\n",
       "      <td>M</td>\n",
       "      <td>12th</td>\n",
       "      <td>Huang High School</td>\n",
       "      <td>90</td>\n",
       "      <td>60</td>\n",
       "      <td>0</td>\n",
       "      <td>District</td>\n",
       "      <td>2917</td>\n",
       "      <td>1910635</td>\n",
       "    </tr>\n",
       "    <tr>\n",
       "      <th>3</th>\n",
       "      <td>3</td>\n",
       "      <td>Dr. Richard Scott</td>\n",
       "      <td>M</td>\n",
       "      <td>12th</td>\n",
       "      <td>Huang High School</td>\n",
       "      <td>67</td>\n",
       "      <td>58</td>\n",
       "      <td>0</td>\n",
       "      <td>District</td>\n",
       "      <td>2917</td>\n",
       "      <td>1910635</td>\n",
       "    </tr>\n",
       "    <tr>\n",
       "      <th>4</th>\n",
       "      <td>4</td>\n",
       "      <td>Bonnie Ray</td>\n",
       "      <td>F</td>\n",
       "      <td>9th</td>\n",
       "      <td>Huang High School</td>\n",
       "      <td>97</td>\n",
       "      <td>84</td>\n",
       "      <td>0</td>\n",
       "      <td>District</td>\n",
       "      <td>2917</td>\n",
       "      <td>1910635</td>\n",
       "    </tr>\n",
       "  </tbody>\n",
       "</table>\n",
       "</div>"
      ],
      "text/plain": [
       "   Student ID       student_name gender grade        school_name  \\\n",
       "0           0       Paul Bradley      M   9th  Huang High School   \n",
       "1           1       Victor Smith      M  12th  Huang High School   \n",
       "2           2    Kevin Rodriguez      M  12th  Huang High School   \n",
       "3           3  Dr. Richard Scott      M  12th  Huang High School   \n",
       "4           4         Bonnie Ray      F   9th  Huang High School   \n",
       "\n",
       "   reading_score  math_score  School ID      type  size   budget  \n",
       "0             66          79          0  District  2917  1910635  \n",
       "1             94          61          0  District  2917  1910635  \n",
       "2             90          60          0  District  2917  1910635  \n",
       "3             67          58          0  District  2917  1910635  \n",
       "4             97          84          0  District  2917  1910635  "
      ]
     },
     "execution_count": 1,
     "metadata": {},
     "output_type": "execute_result"
    }
   ],
   "source": [
    "#dependencies setup\n",
    "import pandas as pd\n",
    "#Loading files\n",
    "school_data_to_load= \"C:/Users/balth/OneDrive/Desktop/Pandas/Pandas-challenge/PyCitySchools/Resources/schools_complete.csv\"\n",
    "student_data_to_load= \"C:/Users/balth/OneDrive/Desktop/Pandas/Pandas-challenge/PyCitySchools/Resources/students_complete.csv\"\n",
    "#read files\n",
    "school_data= pd.read_csv(school_data_to_load)\n",
    "student_data=pd.read_csv(student_data_to_load)\n",
    "# merge files in student name\n",
    "school_data_complete= pd.merge(student_data,school_data,how=\"left\",on=[\"school_name\", \"school_name\"])\n",
    "school_data_complete.head()"
   ]
  },
  {
   "cell_type": "code",
   "execution_count": 2,
   "id": "21a5f37e",
   "metadata": {},
   "outputs": [
    {
     "data": {
      "text/plain": [
       "15"
      ]
     },
     "execution_count": 2,
     "metadata": {},
     "output_type": "execute_result"
    }
   ],
   "source": [
    "#Calculate number of school\n",
    "unique_school_name=school_data_complete['school_name'].unique()\n",
    "Total_schools= len(unique_school_name)\n",
    "Total_schools"
   ]
  },
  {
   "cell_type": "code",
   "execution_count": 3,
   "id": "57124be0",
   "metadata": {},
   "outputs": [
    {
     "data": {
      "text/plain": [
       "39170"
      ]
     },
     "execution_count": 3,
     "metadata": {},
     "output_type": "execute_result"
    }
   ],
   "source": [
    "#Calculate number of students\n",
    "Total_students= len(school_data_complete['Student ID'].unique())\n",
    "Total_students"
   ]
  },
  {
   "cell_type": "code",
   "execution_count": 4,
   "id": "96ea2a13",
   "metadata": {},
   "outputs": [
    {
     "data": {
      "text/plain": [
       "24649428"
      ]
     },
     "execution_count": 4,
     "metadata": {},
     "output_type": "execute_result"
    }
   ],
   "source": [
    "#Calculate total budget\n",
    "Total_budget=school_data[\"budget\"].sum()\n",
    "Total_budget\n"
   ]
  },
  {
   "cell_type": "code",
   "execution_count": 5,
   "id": "d6159e64",
   "metadata": {},
   "outputs": [
    {
     "data": {
      "text/plain": [
       "78.98537145774827"
      ]
     },
     "execution_count": 5,
     "metadata": {},
     "output_type": "execute_result"
    }
   ],
   "source": [
    "#Calculate average math score\n",
    "avg_math_score=school_data_complete[\"math_score\"].mean()\n",
    "avg_math_score"
   ]
  },
  {
   "cell_type": "code",
   "execution_count": 6,
   "id": "0c847822",
   "metadata": {},
   "outputs": [
    {
     "data": {
      "text/plain": [
       "81.87784018381414"
      ]
     },
     "execution_count": 6,
     "metadata": {},
     "output_type": "execute_result"
    }
   ],
   "source": [
    "#Calculate average read score\n",
    "avg_read_score=school_data_complete[\"reading_score\"].mean()\n",
    "avg_read_score"
   ]
  },
  {
   "cell_type": "code",
   "execution_count": 7,
   "id": "5eb484cd",
   "metadata": {},
   "outputs": [
    {
     "data": {
      "text/plain": [
       "74.9808526933878"
      ]
     },
     "execution_count": 7,
     "metadata": {},
     "output_type": "execute_result"
    }
   ],
   "source": [
    "#calculate % of students passing math\n",
    "students_pass_math=school_data_complete[(school_data_complete[\"math_score\"]>=70)].count()[\"math_score\"]\n",
    "percent_students_pass_math= (students_pass_math/Total_students)*100\n",
    "percent_students_pass_math"
   ]
  },
  {
   "cell_type": "code",
   "execution_count": 8,
   "id": "0ff18bab",
   "metadata": {},
   "outputs": [
    {
     "data": {
      "text/plain": [
       "85.80546336482001"
      ]
     },
     "execution_count": 8,
     "metadata": {},
     "output_type": "execute_result"
    }
   ],
   "source": [
    "#calculate % of students passing reading\n",
    "students_pass_reading=school_data_complete[(school_data_complete[\"reading_score\"]>=70)].count()[\"reading_score\"]\n",
    "percent_students_pass_reading=(students_pass_reading/Total_students)*100\n",
    "percent_students_pass_reading"
   ]
  },
  {
   "cell_type": "code",
   "execution_count": 9,
   "id": "57d0334e",
   "metadata": {},
   "outputs": [
    {
     "data": {
      "text/plain": [
       "65.17232575950983"
      ]
     },
     "execution_count": 9,
     "metadata": {},
     "output_type": "execute_result"
    }
   ],
   "source": [
    "#percentage overall passing\n",
    "Overall_pass_percent= school_data_complete[(school_data_complete[\"math_score\"]>=70)&(school_data_complete[\"reading_score\"]>=70)].count()[\"student_name\"]/Total_students*100\n",
    "Overall_pass_percent"
   ]
  },
  {
   "cell_type": "code",
   "execution_count": 10,
   "id": "27e8730e",
   "metadata": {},
   "outputs": [
    {
     "data": {
      "text/html": [
       "<div>\n",
       "<style scoped>\n",
       "    .dataframe tbody tr th:only-of-type {\n",
       "        vertical-align: middle;\n",
       "    }\n",
       "\n",
       "    .dataframe tbody tr th {\n",
       "        vertical-align: top;\n",
       "    }\n",
       "\n",
       "    .dataframe thead th {\n",
       "        text-align: right;\n",
       "    }\n",
       "</style>\n",
       "<table border=\"1\" class=\"dataframe\">\n",
       "  <thead>\n",
       "    <tr style=\"text-align: right;\">\n",
       "      <th></th>\n",
       "      <th>Total Schools</th>\n",
       "      <th>Total Students</th>\n",
       "      <th>Total Budget</th>\n",
       "      <th>Average Math Score</th>\n",
       "      <th>Average Reading Score</th>\n",
       "      <th>% Passing Math</th>\n",
       "      <th>% Passing Reading</th>\n",
       "      <th>Overal Passing</th>\n",
       "    </tr>\n",
       "  </thead>\n",
       "  <tbody>\n",
       "    <tr>\n",
       "      <th>0</th>\n",
       "      <td>15</td>\n",
       "      <td>39,170</td>\n",
       "      <td>$24,649,428.00</td>\n",
       "      <td>78.99</td>\n",
       "      <td>81.88</td>\n",
       "      <td>74.98%</td>\n",
       "      <td>85.81%</td>\n",
       "      <td>65.172326</td>\n",
       "    </tr>\n",
       "  </tbody>\n",
       "</table>\n",
       "</div>"
      ],
      "text/plain": [
       "   Total Schools Total Students    Total Budget Average Math Score  \\\n",
       "0             15         39,170  $24,649,428.00              78.99   \n",
       "\n",
       "  Average Reading Score % Passing Math % Passing Reading  Overal Passing  \n",
       "0                 81.88         74.98%            85.81%       65.172326  "
      ]
     },
     "execution_count": 10,
     "metadata": {},
     "output_type": "execute_result"
    }
   ],
   "source": [
    "#data frame for school results\n",
    "summary_district=pd.DataFrame([{\"Total Schools\":Total_schools,\"Total Students\":Total_students,\"Total Budget\":Total_budget,\"Average Math Score\":avg_math_score,\"Average Reading Score\":avg_read_score,\"% Passing Math\":percent_students_pass_math,\"% Passing Reading\":percent_students_pass_reading,\"Overal Passing\":Overall_pass_percent}])\n",
    "summary_district\n",
    "#formatting\n",
    "summary_district.index.name=None\n",
    "summary_district[\"Total Students\"]=summary_district[\"Total Students\"].map(\"{:,}\".format)\n",
    "summary_district[\"Total Budget\"]=summary_district[\"Total Budget\"].map(\"${:,.2f}\".format)\n",
    "summary_district[\"Average Math Score\"]=summary_district[\"Average Math Score\"].map(\"{:.2f}\".format)\n",
    "summary_district[\"Average Reading Score\"]=summary_district[\"Average Reading Score\"].map(\"{:.2f}\".format)\n",
    "summary_district[\"% Passing Math\"]=summary_district[\"% Passing Math\"].map(\"{:.2f}%\".format)\n",
    "summary_district[\"% Passing Reading\"]=summary_district[\"% Passing Reading\"].map(\"{:.2f}%\".format)\n",
    "\n",
    "#print summary\n",
    "summary_district"
   ]
  },
  {
   "cell_type": "code",
   "execution_count": 11,
   "id": "9537a5ea",
   "metadata": {},
   "outputs": [],
   "source": [
    "#Part 2 School analysis\n",
    "# Import necessary libraries\n",
    "import pandas as pd\n",
    "import os\n",
    " \n",
    "# File paths - adjust these to match your file locations\n",
    "school_data_path = \"Resources/schools_complete.csv\"\n",
    "student_data_path = \"Resources/students_complete.csv\"\n",
    " \n",
    "# Read CSV files\n",
    "school_data = pd.read_csv(school_data_path)\n",
    "student_data = pd.read_csv(student_data_path)\n",
    " \n",
    "# Merge datasets\n",
    "school_data_complete = pd.merge(student_data, school_data, how=\"left\", on=[\"school_name\", \"school_name\"])"
   ]
  },
  {
   "cell_type": "code",
   "execution_count": 12,
   "id": "a382292d",
   "metadata": {},
   "outputs": [],
   "source": [
    "#school type by school name\n",
    "group_school_type=school_data.set_index(\"school_name\")[\"type\"]"
   ]
  },
  {
   "cell_type": "code",
   "execution_count": 13,
   "id": "4335d6fa",
   "metadata": {},
   "outputs": [],
   "source": [
    "#total students by school\n",
    "total_students_school=school_data_complete[\"school_name\"].value_counts()"
   ]
  },
  {
   "cell_type": "code",
   "execution_count": 14,
   "id": "442d0b18",
   "metadata": {},
   "outputs": [],
   "source": [
    "#total budget by school\n",
    "total_budget_school=school_data.set_index(\"school_name\")[\"budget\"]"
   ]
  },
  {
   "cell_type": "code",
   "execution_count": 15,
   "id": "d580cf7f",
   "metadata": {},
   "outputs": [],
   "source": [
    "#budget per studient\n",
    "student_budget=school_data.set_index(\"school_name\")[\"budget\"]/school_data_complete[\"school_name\"].value_counts()"
   ]
  },
  {
   "cell_type": "code",
   "execution_count": 16,
   "id": "ca25757d",
   "metadata": {},
   "outputs": [],
   "source": [
    "#average math and reading scores\n",
    "avg_math_score=school_data_complete.groupby(\"school_name\")[\"math_score\"].mean()\n",
    "avg_reading_score=school_data_complete.groupby(\"school_name\")[\"reading_score\"].mean()"
   ]
  },
  {
   "cell_type": "code",
   "execution_count": 17,
   "id": "8a1a9f7e",
   "metadata": {},
   "outputs": [],
   "source": [
    "#percent of students that passed math\n",
    "percent_pass_math=school_data_complete[school_data_complete[\"math_score\"]>=70].groupby(\"school_name\")[\"student_name\"].count()/total_students_school*100"
   ]
  },
  {
   "cell_type": "code",
   "execution_count": 18,
   "id": "916aaa45",
   "metadata": {},
   "outputs": [],
   "source": [
    "#percent of students that passed reading\n",
    "percent_pass_reading=school_data_complete[school_data_complete[\"reading_score\"]>=70].groupby(\"school_name\")[\"student_name\"].count()/total_students_school*100"
   ]
  },
  {
   "cell_type": "code",
   "execution_count": 19,
   "id": "23a22804",
   "metadata": {},
   "outputs": [],
   "source": [
    "# Overall percent passing\n",
    "overall_percent_pass= school_data_complete[(school_data_complete[\"math_score\"]>=70) & (school_data_complete[\"reading_score\"]>=70)].groupby(\"school_name\")[\"student_name\"].count()/total_students_school*100"
   ]
  },
  {
   "cell_type": "code",
   "execution_count": 20,
   "id": "78df85ba",
   "metadata": {},
   "outputs": [
    {
     "name": "stdout",
     "output_type": "stream",
     "text": [
      "School Summary:\n",
      "                      School Type  Total Students Total School Budget  \\\n",
      "school_name                                                             \n",
      "Bailey High School       District            4976       $3,124,928.00   \n",
      "Cabrera High School       Charter            1858       $1,081,356.00   \n",
      "Figueroa High School     District            2949       $1,884,411.00   \n",
      "Ford High School         District            2739       $1,763,916.00   \n",
      "Griffin High School       Charter            1468         $917,500.00   \n",
      "Hernandez High School    District            4635       $3,022,020.00   \n",
      "Holden High School        Charter             427         $248,087.00   \n",
      "Huang High School        District            2917       $1,910,635.00   \n",
      "Johnson High School      District            4761       $3,094,650.00   \n",
      "Pena High School          Charter             962         $585,858.00   \n",
      "Rodriguez High School    District            3999       $2,547,363.00   \n",
      "Shelton High School       Charter            1761       $1,056,600.00   \n",
      "Thomas High School        Charter            1635       $1,043,130.00   \n",
      "Wilson High School        Charter            2283       $1,319,574.00   \n",
      "Wright High School        Charter            1800       $1,049,400.00   \n",
      "\n",
      "                      Per Student Budget  Average Math Score  \\\n",
      "school_name                                                    \n",
      "Bailey High School               $628.00           77.048432   \n",
      "Cabrera High School              $582.00           83.061895   \n",
      "Figueroa High School             $639.00           76.711767   \n",
      "Ford High School                 $644.00           77.102592   \n",
      "Griffin High School              $625.00           83.351499   \n",
      "Hernandez High School            $652.00           77.289752   \n",
      "Holden High School               $581.00           83.803279   \n",
      "Huang High School                $655.00           76.629414   \n",
      "Johnson High School              $650.00           77.072464   \n",
      "Pena High School                 $609.00           83.839917   \n",
      "Rodriguez High School            $637.00           76.842711   \n",
      "Shelton High School              $600.00           83.359455   \n",
      "Thomas High School               $638.00           83.418349   \n",
      "Wilson High School               $578.00           83.274201   \n",
      "Wright High School               $583.00           83.682222   \n",
      "\n",
      "                       Average Reading Score  % Passing Math  \\\n",
      "school_name                                                    \n",
      "Bailey High School                 81.033963       66.680064   \n",
      "Cabrera High School                83.975780       94.133477   \n",
      "Figueroa High School               81.158020       65.988471   \n",
      "Ford High School                   80.746258       68.309602   \n",
      "Griffin High School                83.816757       93.392371   \n",
      "Hernandez High School              80.934412       66.752967   \n",
      "Holden High School                 83.814988       92.505855   \n",
      "Huang High School                  81.182722       65.683922   \n",
      "Johnson High School                80.966394       66.057551   \n",
      "Pena High School                   84.044699       94.594595   \n",
      "Rodriguez High School              80.744686       66.366592   \n",
      "Shelton High School                83.725724       93.867121   \n",
      "Thomas High School                 83.848930       93.272171   \n",
      "Wilson High School                 83.989488       93.867718   \n",
      "Wright High School                 83.955000       93.333333   \n",
      "\n",
      "                       % Passing Reading  % Overall Passing  \n",
      "school_name                                                  \n",
      "Bailey High School             81.933280          54.642283  \n",
      "Cabrera High School            97.039828          91.334769  \n",
      "Figueroa High School           80.739234          53.204476  \n",
      "Ford High School               79.299014          54.289887  \n",
      "Griffin High School            97.138965          90.599455  \n",
      "Hernandez High School          80.862999          53.527508  \n",
      "Holden High School             96.252927          89.227166  \n",
      "Huang High School              81.316421          53.513884  \n",
      "Johnson High School            81.222432          53.539172  \n",
      "Pena High School               95.945946          90.540541  \n",
      "Rodriguez High School          80.220055          52.988247  \n",
      "Shelton High School            95.854628          89.892107  \n",
      "Thomas High School             97.308869          90.948012  \n",
      "Wilson High School             96.539641          90.582567  \n",
      "Wright High School             96.611111          90.333333  \n",
      "\n",
      "\n"
     ]
    }
   ],
   "source": [
    "#summary school\n",
    "Summary_school=pd.DataFrame({\n",
    "    \"School Type\":group_school_type, \n",
    "    \"Total Students\":total_students_school,\n",
    "    \"Total School Budget\":total_budget_school,\n",
    "    \"Per Student Budget\": student_budget,\n",
    "    \"Average Math Score\":avg_math_score,\n",
    "    \"Average Reading Score\":avg_reading_score,\n",
    "    \"% Passing Math\":percent_pass_math,\n",
    "    \"% Passing Reading\":percent_pass_reading,\n",
    "    \"% Overall Passing\":overall_percent_pass\n",
    "})\n",
    "\n",
    "#formatting\n",
    "Summary_school[\"Total School Budget\"] = Summary_school[\"Total School Budget\"].map(\"${:,.2f}\".format)\n",
    "Summary_school[\"Per Student Budget\"] = Summary_school[\"Per Student Budget\"].map(\"${:,.2f}\".format)\n",
    "\n",
    "#order columns\n",
    "Summary_school = Summary_school[[\"School Type\", \"Total Students\", \"Total School Budget\", \"Per Student Budget\", \n",
    "                                 \"Average Math Score\", \"Average Reading Score\", \"% Passing Math\", \n",
    "                                 \"% Passing Reading\", \"% Overall Passing\"]]\n",
    " \n",
    "print(\"School Summary:\")\n",
    "print(Summary_school)\n",
    "print(\"\\n\")"
   ]
  },
  {
   "cell_type": "code",
   "execution_count": 22,
   "id": "1ef249ae",
   "metadata": {},
   "outputs": [
    {
     "name": "stdout",
     "output_type": "stream",
     "text": [
      "Top Performing Schools:\n",
      "                    School Type  Total Students Total School Budget  \\\n",
      "school_name                                                           \n",
      "Cabrera High School     Charter            1858       $1,081,356.00   \n",
      "Thomas High School      Charter            1635       $1,043,130.00   \n",
      "Griffin High School     Charter            1468         $917,500.00   \n",
      "Wilson High School      Charter            2283       $1,319,574.00   \n",
      "Pena High School        Charter             962         $585,858.00   \n",
      "\n",
      "                    Per Student Budget  Average Math Score  \\\n",
      "school_name                                                  \n",
      "Cabrera High School            $582.00           83.061895   \n",
      "Thomas High School             $638.00           83.418349   \n",
      "Griffin High School            $625.00           83.351499   \n",
      "Wilson High School             $578.00           83.274201   \n",
      "Pena High School               $609.00           83.839917   \n",
      "\n",
      "                     Average Reading Score  % Passing Math  % Passing Reading  \\\n",
      "school_name                                                                     \n",
      "Cabrera High School              83.975780       94.133477          97.039828   \n",
      "Thomas High School               83.848930       93.272171          97.308869   \n",
      "Griffin High School              83.816757       93.392371          97.138965   \n",
      "Wilson High School               83.989488       93.867718          96.539641   \n",
      "Pena High School                 84.044699       94.594595          95.945946   \n",
      "\n",
      "                     % Overall Passing  \n",
      "school_name                             \n",
      "Cabrera High School          91.334769  \n",
      "Thomas High School           90.948012  \n",
      "Griffin High School          90.599455  \n",
      "Wilson High School           90.582567  \n",
      "Pena High School             90.540541  \n",
      "\n",
      "\n"
     ]
    }
   ],
   "source": [
    "# Highest-Performing Schools (by % Overall Passing)\n",
    "top_schools = Summary_school.sort_values(\"% Overall Passing\", ascending=False)\n",
    "print(\"Top Performing Schools:\")\n",
    "print(top_schools.head())\n",
    "print(\"\\n\")"
   ]
  },
  {
   "cell_type": "code",
   "execution_count": 23,
   "id": "df63ccb3",
   "metadata": {},
   "outputs": [
    {
     "name": "stdout",
     "output_type": "stream",
     "text": [
      "Bottom Performing Schools:\n",
      "                      School Type  Total Students Total School Budget  \\\n",
      "school_name                                                             \n",
      "Rodriguez High School    District            3999       $2,547,363.00   \n",
      "Figueroa High School     District            2949       $1,884,411.00   \n",
      "Huang High School        District            2917       $1,910,635.00   \n",
      "Hernandez High School    District            4635       $3,022,020.00   \n",
      "Johnson High School      District            4761       $3,094,650.00   \n",
      "\n",
      "                      Per Student Budget  Average Math Score  \\\n",
      "school_name                                                    \n",
      "Rodriguez High School            $637.00           76.842711   \n",
      "Figueroa High School             $639.00           76.711767   \n",
      "Huang High School                $655.00           76.629414   \n",
      "Hernandez High School            $652.00           77.289752   \n",
      "Johnson High School              $650.00           77.072464   \n",
      "\n",
      "                       Average Reading Score  % Passing Math  \\\n",
      "school_name                                                    \n",
      "Rodriguez High School              80.744686       66.366592   \n",
      "Figueroa High School               81.158020       65.988471   \n",
      "Huang High School                  81.182722       65.683922   \n",
      "Hernandez High School              80.934412       66.752967   \n",
      "Johnson High School                80.966394       66.057551   \n",
      "\n",
      "                       % Passing Reading  % Overall Passing  \n",
      "school_name                                                  \n",
      "Rodriguez High School          80.220055          52.988247  \n",
      "Figueroa High School           80.739234          53.204476  \n",
      "Huang High School              81.316421          53.513884  \n",
      "Hernandez High School          80.862999          53.527508  \n",
      "Johnson High School            81.222432          53.539172  \n",
      "\n",
      "\n"
     ]
    }
   ],
   "source": [
    "#Lowest-Performing Schools (by % Overall Passing)\n",
    "bottom_schools = Summary_school.sort_values(\"% Overall Passing\", ascending=True)\n",
    "print(\"Bottom Performing Schools:\")\n",
    "print(bottom_schools.head())\n",
    "print(\"\\n\")"
   ]
  },
  {
   "cell_type": "code",
   "execution_count": 24,
   "id": "77789aaa",
   "metadata": {},
   "outputs": [
    {
     "name": "stdout",
     "output_type": "stream",
     "text": [
      "Math Scores by Grade:\n",
      "                             9th       10th       11th       12th\n",
      "school_name                                                      \n",
      "Bailey High School     77.083676  76.996772  77.515588  76.492218\n",
      "Cabrera High School    83.094697  83.154506  82.765560  83.277487\n",
      "Figueroa High School   76.403037  76.539974  76.884344  77.151369\n",
      "Ford High School       77.361345  77.672316  76.918058  76.179963\n",
      "Griffin High School    82.044010  84.229064  83.842105  83.356164\n",
      "Hernandez High School  77.438495  77.337408  77.136029  77.186567\n",
      "Holden High School     83.787402  83.429825  85.000000  82.855422\n",
      "Huang High School      77.027251  75.908735  76.446602  77.225641\n",
      "Johnson High School    77.187857  76.691117  77.491653  76.863248\n",
      "Pena High School       83.625455  83.372000  84.328125  84.121547\n",
      "Rodriguez High School  76.859966  76.612500  76.395626  77.690748\n",
      "Shelton High School    83.420755  82.917411  83.383495  83.778976\n",
      "Thomas High School     83.590022  83.087886  83.498795  83.497041\n",
      "Wilson High School     83.085578  83.724422  83.195326  83.035794\n",
      "Wright High School     83.264706  84.010288  83.836782  83.644986\n",
      "\n",
      "\n",
      "Reading Scores by Grade:\n",
      "                             9th       10th       11th       12th\n",
      "school_name                                                      \n",
      "Bailey High School     81.303155  80.907183  80.945643  80.912451\n",
      "Cabrera High School    83.676136  84.253219  83.788382  84.287958\n",
      "Figueroa High School   81.198598  81.408912  80.640339  81.384863\n",
      "Ford High School       80.632653  81.262712  80.403642  80.662338\n",
      "Griffin High School    83.369193  83.706897  84.288089  84.013699\n",
      "Hernandez High School  80.866860  80.660147  81.396140  80.857143\n",
      "Holden High School     83.677165  83.324561  83.815534  84.698795\n",
      "Huang High School      81.290284  81.512386  81.417476  80.305983\n",
      "Johnson High School    81.260714  80.773431  80.616027  81.227564\n",
      "Pena High School       83.807273  83.612000  84.335938  84.591160\n",
      "Rodriguez High School  80.993127  80.629808  80.864811  80.376426\n",
      "Shelton High School    84.122642  83.441964  84.373786  82.781671\n",
      "Thomas High School     83.728850  84.254157  83.585542  83.831361\n",
      "Wilson High School     83.939778  84.021452  83.764608  84.317673\n",
      "Wright High School     83.833333  83.812757  84.156322  84.073171\n",
      "\n",
      "\n"
     ]
    }
   ],
   "source": [
    "#Math & Reading Scores by Grade\n",
    "grades = [\"9th\", \"10th\", \"11th\", \"12th\"]\n",
    "math_scores_by_grade = pd.DataFrame({grade: school_data_complete[school_data_complete[\"grade\"] == grade].groupby(\"school_name\")[\"math_score\"].mean() for grade in grades})\n",
    "reading_scores_by_grade = pd.DataFrame({grade: school_data_complete[school_data_complete[\"grade\"] == grade].groupby(\"school_name\")[\"reading_score\"].mean() for grade in grades})\n",
    " \n",
    "print(\"Math Scores by Grade:\")\n",
    "print(math_scores_by_grade)\n",
    "print(\"\\n\")\n",
    "print(\"Reading Scores by Grade:\")\n",
    "print(reading_scores_by_grade)\n",
    "print(\"\\n\")"
   ]
  },
  {
   "cell_type": "code",
   "execution_count": 25,
   "id": "6c355d0d",
   "metadata": {},
   "outputs": [
    {
     "name": "stdout",
     "output_type": "stream",
     "text": [
      "Scores by School Spending:\n",
      "                               Average Math Score  Average Reading Score  \\\n",
      "Spending Ranges (Per Student)                                              \n",
      "<$585                                   83.455399              83.933814   \n",
      "$585-630                                81.899826              83.155286   \n",
      "$630-645                                78.518855              81.624473   \n",
      "$645-680                                76.997210              81.027843   \n",
      "\n",
      "                               % Passing Math  % Passing Reading  \\\n",
      "Spending Ranges (Per Student)                                      \n",
      "<$585                               93.460096          96.610877   \n",
      "$585-630                            87.133538          92.718205   \n",
      "$630-645                            73.484209          84.391793   \n",
      "$645-680                            66.164813          81.133951   \n",
      "\n",
      "                               % Overall Passing  \n",
      "Spending Ranges (Per Student)                     \n",
      "<$585                                  90.369459  \n",
      "$585-630                               81.418596  \n",
      "$630-645                               62.857656  \n",
      "$645-680                               53.526855  \n",
      "\n",
      "\n"
     ]
    },
    {
     "name": "stderr",
     "output_type": "stream",
     "text": [
      "C:\\Users\\balth\\AppData\\Local\\Temp\\ipykernel_26892\\2970614962.py:6: FutureWarning: The default of observed=False is deprecated and will be changed to True in a future version of pandas. Pass observed=False to retain current behavior or observed=True to adopt the future default and silence this warning.\n",
      "  spending_summary = Summary_school.groupby(\"Spending Ranges (Per Student)\").agg({\n"
     ]
    }
   ],
   "source": [
    "#Scores by School Spending \n",
    "spending_bins = [0, 585, 630, 645, 680]\n",
    "labels = [\"<$585\", \"$585-630\", \"$630-645\", \"$645-680\"]\n",
    "Summary_school[\"Spending Ranges (Per Student)\"] = pd.cut(Summary_school[\"Per Student Budget\"].str.replace('$', '').astype(float), spending_bins, labels=labels)\n",
    " \n",
    "spending_summary = Summary_school.groupby(\"Spending Ranges (Per Student)\").agg({\n",
    "    \"Average Math Score\": \"mean\",\n",
    "    \"Average Reading Score\": \"mean\",\n",
    "    \"% Passing Math\": \"mean\",\n",
    "    \"% Passing Reading\": \"mean\",\n",
    "    \"% Overall Passing\": \"mean\"\n",
    "})\n",
    " \n",
    "print(\"Scores by School Spending:\")\n",
    "print(spending_summary)\n",
    "print(\"\\n\")"
   ]
  },
  {
   "cell_type": "code",
   "execution_count": 26,
   "id": "d1f4f48a",
   "metadata": {},
   "outputs": [
    {
     "name": "stdout",
     "output_type": "stream",
     "text": [
      "Scores by School Size:\n",
      "                    Average Math Score  Average Reading Score  % Passing Math  \\\n",
      "School Size                                                                     \n",
      "Small (<1000)                83.821598              83.929843       93.550225   \n",
      "Medium (1000-2000)           83.374684              83.864438       93.599695   \n",
      "Large (2000-5000)            77.746417              81.344493       69.963361   \n",
      "\n",
      "                    % Passing Reading  % Overall Passing  \n",
      "School Size                                               \n",
      "Small (<1000)               96.099437          89.883853  \n",
      "Medium (1000-2000)          96.790680          90.621535  \n",
      "Large (2000-5000)           82.766634          58.286003  \n",
      "\n",
      "\n"
     ]
    },
    {
     "name": "stderr",
     "output_type": "stream",
     "text": [
      "C:\\Users\\balth\\AppData\\Local\\Temp\\ipykernel_26892\\4211401583.py:6: FutureWarning: The default of observed=False is deprecated and will be changed to True in a future version of pandas. Pass observed=False to retain current behavior or observed=True to adopt the future default and silence this warning.\n",
      "  size_summary = Summary_school.groupby(\"School Size\").agg({\n"
     ]
    }
   ],
   "source": [
    "#Scores by School Size\n",
    "size_bins = [0, 1000, 2000, 5000]\n",
    "labels = [\"Small (<1000)\", \"Medium (1000-2000)\", \"Large (2000-5000)\"]\n",
    "Summary_school[\"School Size\"] = pd.cut(Summary_school[\"Total Students\"], size_bins, labels=labels)\n",
    " \n",
    "size_summary = Summary_school.groupby(\"School Size\").agg({\n",
    "    \"Average Math Score\": \"mean\",\n",
    "    \"Average Reading Score\": \"mean\",\n",
    "    \"% Passing Math\": \"mean\",\n",
    "    \"% Passing Reading\": \"mean\",\n",
    "    \"% Overall Passing\": \"mean\"\n",
    "})\n",
    " \n",
    "print(\"Scores by School Size:\")\n",
    "print(size_summary)\n",
    "print(\"\\n\")"
   ]
  },
  {
   "cell_type": "code",
   "execution_count": 27,
   "id": "03b380db",
   "metadata": {},
   "outputs": [
    {
     "name": "stdout",
     "output_type": "stream",
     "text": [
      "Scores by School Type:\n",
      "             Average Math Score  Average Reading Score  % Passing Math  \\\n",
      "School Type                                                              \n",
      "Charter               83.473852              83.896421       93.620830   \n",
      "District              76.956733              80.966636       66.548453   \n",
      "\n",
      "             % Passing Reading  % Overall Passing  \n",
      "School Type                                        \n",
      "Charter              96.586489          90.432244  \n",
      "District             80.799062          53.672208  \n"
     ]
    }
   ],
   "source": [
    "#Scores by School Type\n",
    "type_summary = Summary_school.groupby(\"School Type\").agg({\n",
    "    \"Average Math Score\": \"mean\",\n",
    "    \"Average Reading Score\": \"mean\",\n",
    "    \"% Passing Math\": \"mean\",\n",
    "    \"% Passing Reading\": \"mean\",\n",
    "    \"% Overall Passing\": \"mean\"\n",
    "})\n",
    " \n",
    "print(\"Scores by School Type:\")\n",
    "print(type_summary)\n"
   ]
  },
  {
   "cell_type": "code",
   "execution_count": null,
   "id": "6aca1655",
   "metadata": {},
   "outputs": [],
   "source": []
  }
 ],
 "metadata": {
  "kernelspec": {
   "display_name": "Python 3 (ipykernel)",
   "language": "python",
   "name": "python3"
  },
  "language_info": {
   "codemirror_mode": {
    "name": "ipython",
    "version": 3
   },
   "file_extension": ".py",
   "mimetype": "text/x-python",
   "name": "python",
   "nbconvert_exporter": "python",
   "pygments_lexer": "ipython3",
   "version": "3.10.14"
  }
 },
 "nbformat": 4,
 "nbformat_minor": 5
}
